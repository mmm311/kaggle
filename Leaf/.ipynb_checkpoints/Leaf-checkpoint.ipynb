{
 "cells": [
  {
   "cell_type": "code",
   "execution_count": null,
   "metadata": {
    "collapsed": false
   },
   "outputs": [],
   "source": [
    "import numpy as np\n",
    "import pandas as pd\n",
    "import matplotlib.pyplot as plt\n",
    "%matplotlib inline"
   ]
  },
  {
   "cell_type": "code",
   "execution_count": null,
   "metadata": {
    "collapsed": false
   },
   "outputs": [],
   "source": [
    "data = pd.read_csv('../LeafData/train.csv',index_col = 0)\n",
    "testData = pd.read_csv('../LeafData/test.csv', index_col = 0)\n",
    "data.head(6)"
   ]
  },
  {
   "cell_type": "code",
   "execution_count": null,
   "metadata": {
    "collapsed": false
   },
   "outputs": [],
   "source": [
    "data = data.sample(frac = 1)\n",
    "features = data[data.columns[1:193]]\n",
    "labels = data['species']"
   ]
  },
  {
   "cell_type": "code",
   "execution_count": null,
   "metadata": {
    "collapsed": false
   },
   "outputs": [],
   "source": [
    "features.head()"
   ]
  },
  {
   "cell_type": "markdown",
   "metadata": {
    "collapsed": false
   },
   "source": [
    "features = features / np.linalg.norm(features, axis=0)\n",
    "testData = testData / np.linalg.norm(testData, axis=0)\n",
    "features.head()"
   ]
  },
  {
   "cell_type": "code",
   "execution_count": null,
   "metadata": {
    "collapsed": true
   },
   "outputs": [],
   "source": [
    "trainFeatures = features.iloc[:891,:]\n",
    "validFeatures = features.iloc[891:,:]\n",
    "trainLabels = labels.iloc[:891]\n",
    "validLabels = labels.iloc[891:]"
   ]
  },
  {
   "cell_type": "code",
   "execution_count": null,
   "metadata": {
    "collapsed": false
   },
   "outputs": [],
   "source": [
    "# Computes distance(s) between a query and training point(s)\n",
    "def computeDistances(trainData, query):\n",
    "    distances = np.sqrt(np.sum((trainData - query) **2 , axis=1))\n",
    "    return distances\n",
    "distances = computeDistances(trainFeatures, validFeatures.iloc[1,:])\n",
    "trainLabels.loc[distances.argmin()]"
   ]
  },
  {
   "cell_type": "code",
   "execution_count": null,
   "metadata": {
    "collapsed": false
   },
   "outputs": [],
   "source": [
    "validLabels.iloc[1]"
   ]
  },
  {
   "cell_type": "code",
   "execution_count": null,
   "metadata": {
    "collapsed": true
   },
   "outputs": [],
   "source": [
    "# K nearest neighbors\n",
    "def getNearestNeighbors(trainFeatures, trainLabels, query, k):\n",
    "    distances = computeDistances(trainFeatures, query)\n",
    "    lowestTen = distances.sort_values().head(k).index\n",
    "    results = dict()\n",
    "    for x in trainLabels[lowestTen]:\n",
    "        if x not in results:\n",
    "            results[x] = 1 / float(k)\n",
    "        else:\n",
    "            results[x] += 1 / float(k)\n",
    "    return results\n"
   ]
  },
  {
   "cell_type": "code",
   "execution_count": null,
   "metadata": {
    "collapsed": false
   },
   "outputs": [],
   "source": [
    "getNearestNeighbors(trainFeatures, trainLabels, validFeatures.iloc[1,:],10)\n"
   ]
  },
  {
   "cell_type": "code",
   "execution_count": null,
   "metadata": {
    "collapsed": false
   },
   "outputs": [],
   "source": [
    "def getProbabilities(trainFeatures, trainLabels, testFeatures, k):\n",
    "    leaves = np.unique(data.species.sort_values().values)\n",
    "    probabilities= pd.DataFrame(0,index = testFeatures.index, columns = leaves)\n",
    "    for index, query in zip(testFeatures.index, testFeatures.values):\n",
    "        for key, value in getNearestNeighbors(trainFeatures, trainLabels, query, k).items():\n",
    "            probabilities.loc[index, key] = value\n",
    "    return probabilities"
   ]
  },
  {
   "cell_type": "code",
   "execution_count": null,
   "metadata": {
    "collapsed": false
   },
   "outputs": [],
   "source": [
    "getProbabilities(trainFeatures, trainLabels, validFeatures, 100).head()"
   ]
  },
  {
   "cell_type": "code",
   "execution_count": null,
   "metadata": {
    "collapsed": true
   },
   "outputs": [],
   "source": [
    "# Predictions \n",
    "def getPredictions(trainFeatures, trainLabels, testFeatures,k):\n",
    "    testProbabilities = getProbabilities(trainFeatures, trainLabels,testFeatures, k)\n",
    "    return testProbabilities.idxmax(axis = 1)"
   ]
  },
  {
   "cell_type": "code",
   "execution_count": null,
   "metadata": {
    "collapsed": false
   },
   "outputs": [],
   "source": [
    "validPredictions = getPredictions(trainFeatures, trainLabels, validFeatures, 10)\n",
    "validPredictions.head()"
   ]
  },
  {
   "cell_type": "code",
   "execution_count": null,
   "metadata": {
    "collapsed": false
   },
   "outputs": [],
   "source": [
    "accuracy = sum(validPredictions == validLabels) / float(len(validLabels))\n",
    "accuracy"
   ]
  },
  {
   "cell_type": "code",
   "execution_count": null,
   "metadata": {
    "collapsed": false
   },
   "outputs": [],
   "source": [
    "# Log Loss Metric\n",
    "def getLogLoss(trainFeatures, trainLabels, validFeatures, validLabels,k):\n",
    "    leaves = np.unique(data.species.sort_values().values)\n",
    "    validProbabilities = getProbabilities(trainFeatures, trainLabels, validFeatures, k)\n",
    "    totalLoss = 0\n",
    "    for index, row in zip(validProbabilities.index, validProbabilities.values):\n",
    "        bools = np.zeros(99)\n",
    "        bools[np.where(leaves==validLabels.loc[index])] = 1\n",
    "        probs = np.zeros(len(row))\n",
    "        for i, x in enumerate(row):\n",
    "            probs[i] = np.log(max(min(x,1-10**-15),10**-15))\n",
    "        totalLoss += sum(bools*probs)\n",
    "    logLoss = totalLoss / -len(validProbabilities.values)\n",
    "    return logLoss\n"
   ]
  },
  {
   "cell_type": "code",
   "execution_count": null,
   "metadata": {
    "collapsed": false
   },
   "outputs": [],
   "source": [
    "for i in range(15):\n",
    "    print('k = ' + str(i+1) + ': ' + str(getLogLoss(trainFeatures, trainLabels, validFeatures, validLabels, i+1)))"
   ]
  },
  {
   "cell_type": "code",
   "execution_count": null,
   "metadata": {
    "collapsed": true
   },
   "outputs": [],
   "source": [
    "# Cross-Validation\n",
    "def crossValidation(feature, labels, folds, k):\n",
    "    n = len(features)\n",
    "    totalLoss = 0\n",
    "    for i in range(folds):\n",
    "        start = int((n * i) / folds)\n",
    "        end = int((n * (i + 1)) / folds)\n",
    "        validFeatures = features.iloc[start:end,:]\n",
    "        validLabels = labels.iloc[start:end]\n",
    "        trainFeatures = features.iloc[0:start, :].append(feature.iloc[end:n, :])\n",
    "        trainLabels = labels.iloc[0:start].append(labels.iloc[end:n])\n",
    "        totalLoss += getLogLoss(trainFeatures, trainLabels, validFeatures, validLabels,k)\n",
    "    averageLoss = totalLoss / folds\n",
    "    return averageLoss\n",
    "        "
   ]
  },
  {
   "cell_type": "code",
   "execution_count": null,
   "metadata": {
    "collapsed": false
   },
   "outputs": [],
   "source": [
    "lossAll = np.zeros(15)\n",
    "for i in range(15):\n",
    "    lossAll[i] = crossValidation(features, labels, folds = 10, k = i+1)\n",
    "    print(\"k =\" + str(i + 1)+\":\"+str(lossAll[i]))"
   ]
  },
  {
   "cell_type": "code",
   "execution_count": null,
   "metadata": {
    "collapsed": true
   },
   "outputs": [],
   "source": [
    "plt.plot(range(1, 16), lossAll,'r')\n",
    "plt.xlabel('# Nearest Neighbors = k')\n",
    "plt.ylabel('logLoss')\n",
    "plt.show()"
   ]
  },
  {
   "cell_type": "code",
   "execution_count": null,
   "metadata": {
    "collapsed": true
   },
   "outputs": [],
   "source": []
  },
  {
   "cell_type": "code",
   "execution_count": null,
   "metadata": {
    "collapsed": true
   },
   "outputs": [],
   "source": []
  },
  {
   "cell_type": "code",
   "execution_count": null,
   "metadata": {
    "collapsed": true
   },
   "outputs": [],
   "source": []
  },
  {
   "cell_type": "code",
   "execution_count": null,
   "metadata": {
    "collapsed": true
   },
   "outputs": [],
   "source": []
  }
 ],
 "metadata": {
  "kernelspec": {
   "display_name": "Python 3",
   "language": "python",
   "name": "python3"
  },
  "language_info": {
   "codemirror_mode": {
    "name": "ipython",
    "version": 3
   },
   "file_extension": ".py",
   "mimetype": "text/x-python",
   "name": "python",
   "nbconvert_exporter": "python",
   "pygments_lexer": "ipython3",
   "version": "3.5.2"
  }
 },
 "nbformat": 4,
 "nbformat_minor": 1
}
